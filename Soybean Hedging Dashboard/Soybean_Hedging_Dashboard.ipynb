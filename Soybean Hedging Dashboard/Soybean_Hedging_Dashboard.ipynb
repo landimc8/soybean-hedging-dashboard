{
 "cells": [
  {
   "cell_type": "code",
   "execution_count": null,
   "id": "b3746fce-c174-4a81-a1e4-0af88ef21d5e",
   "metadata": {},
   "outputs": [],
   "source": []
  }
 ],
 "metadata": {
  "kernelspec": {
   "display_name": "",
   "name": ""
  },
  "language_info": {
   "name": ""
  }
 },
 "nbformat": 4,
 "nbformat_minor": 5
}
