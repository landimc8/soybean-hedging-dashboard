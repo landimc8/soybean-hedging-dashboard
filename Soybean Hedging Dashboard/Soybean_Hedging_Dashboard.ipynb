{
 "cells": [
  {
   "cell_type": "code",
   "execution_count": 1,
   "id": "b3746fce-c174-4a81-a1e4-0af88ef21d5e",
   "metadata": {},
   "outputs": [
    {
     "data": {
      "text/plain": [
       "'\\n# Soybean Hedging Strategy Comparison Dashboard\\n\\nThis Jupyter Notebook allows you to compare the performance of different hedging\\nstrategies for soybeans using historical price data. You can upload your own\\nCSV data containing spot and futures prices and analyze the effectiveness\\nof various hedging approaches in terms of risk reduction and cost.\\n'"
      ]
     },
     "execution_count": 1,
     "metadata": {},
     "output_type": "execute_result"
    }
   ],
   "source": [
    "# -*- coding: utf-8 -*-\n",
    "\"\"\"\n",
    "# Soybean Hedging Strategy Comparison Dashboard\n",
    "\n",
    "This Jupyter Notebook allows you to compare the performance of different hedging\n",
    "strategies for soybeans using historical price data. You can upload your own\n",
    "CSV data containing spot and futures prices and analyze the effectiveness\n",
    "of various hedging approaches in terms of risk reduction and cost.\n",
    "\"\"\""
   ]
  },
  {
   "cell_type": "code",
   "execution_count": 2,
   "id": "53de5a5d-8bcd-4484-9f76-ba7745fa3747",
   "metadata": {},
   "outputs": [
    {
     "name": "stdout",
     "output_type": "stream",
     "text": [
      "All libraries imported successfully!\n"
     ]
    }
   ],
   "source": [
    "# ## 1. Import Libraries\n",
    "\n",
    "import pandas as pd\n",
    "import numpy as np\n",
    "import matplotlib.pyplot as plt\n",
    "import seaborn as sns\n",
    "import ipywidgets as widgets\n",
    "from IPython.display import display\n",
    "import plotly.graph_objects as go\n",
    "import plotly.subplots as sp\n",
    "\n",
    "print(\"All libraries imported successfully!\")"
   ]
  },
  {
   "cell_type": "code",
   "execution_count": 3,
   "id": "136d59c4-fa1e-4e31-ad35-e5808aec9616",
   "metadata": {},
   "outputs": [],
   "source": [
    "import pandas as pd\n",
    "import io\n",
    "import ipywidgets as widgets\n",
    "from IPython.display import display"
   ]
  },
  {
   "cell_type": "code",
   "execution_count": 1,
   "id": "815f0b13-2307-433f-a0ca-1f8989057e4f",
   "metadata": {},
   "outputs": [
    {
     "name": "stdout",
     "output_type": "stream",
     "text": [
      "Excel file imported successfully!\n",
      "        Date       Price\n",
      "0 2024-01-01  452.626470\n",
      "1 2024-02-01  429.726320\n",
      "2 2024-03-01  433.527543\n",
      "3 2024-04-01  427.922141\n",
      "4 2024-05-01  447.494333\n"
     ]
    }
   ],
   "source": [
    "import pandas as pd\n",
    "\n",
    "# Specify the path to your Excel file\n",
    "file_path = 'PSOYBUSDM.xlsx'  # Replace with the actual path\n",
    "\n",
    "# Read the Excel file into a pandas DataFrame\n",
    "try:\n",
    "    df = pd.read_excel(file_path)\n",
    "\n",
    "    # Now you can work with the DataFrame 'df'\n",
    "    print(\"Excel file imported successfully!\")\n",
    "    print(df.head())  # Display the first few rows\n",
    "except FileNotFoundError:\n",
    "    print(f\"Error: File not found at '{file_path}'\")\n",
    "except Exception as e:\n",
    "    print(f\"An error occurred: {e}\")"
   ]
  },
  {
   "cell_type": "code",
   "execution_count": 2,
   "id": "fea24b81-fb44-4376-ae4f-8f951152cf9d",
   "metadata": {},
   "outputs": [
    {
     "name": "stdout",
     "output_type": "stream",
     "text": [
      "Excel file imported successfully!\n",
      "                 Date    Close\n",
      "0 2024-01-02 23:58:00  1273.50\n",
      "1 2024-01-03 23:58:00  1277.00\n",
      "2 2024-01-04 23:58:00  1267.50\n",
      "3 2024-01-05 23:58:00  1256.25\n",
      "4 2024-01-08 23:58:00  1245.50\n"
     ]
    }
   ],
   "source": [
    "import pandas as pd\n",
    "\n",
    "# Specify the path to your Excel file\n",
    "file_path = 'Soybean_contract.xlsx'  # Replace with the actual path\n",
    "\n",
    "# Read the Excel file into a pandas DataFrame\n",
    "try:\n",
    "    df = pd.read_excel(file_path)\n",
    "\n",
    "    # Now you can work with the DataFrame 'df'\n",
    "    print(\"Excel file imported successfully!\")\n",
    "    print(df.head())  # Display the first few rows\n",
    "except FileNotFoundError:\n",
    "    print(f\"Error: File not found at '{file_path}'\")\n",
    "except Exception as e:\n",
    "    print(f\"An error occurred: {e}\")"
   ]
  }
 ],
 "metadata": {
  "kernelspec": {
   "display_name": "Python 3 (ipykernel)",
   "language": "python",
   "name": "python3"
  },
  "language_info": {
   "codemirror_mode": {
    "name": "ipython",
    "version": 3
   },
   "file_extension": ".py",
   "mimetype": "text/x-python",
   "name": "python",
   "nbconvert_exporter": "python",
   "pygments_lexer": "ipython3",
   "version": "3.12.7"
  }
 },
 "nbformat": 4,
 "nbformat_minor": 5
}
